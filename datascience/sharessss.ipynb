{
 "cells": [
  {
   "cell_type": "code",
   "execution_count": 413,
   "metadata": {
    "collapsed": false
   },
   "outputs": [],
   "source": [
    "import requests\n",
    "from bs4 import BeautifulSoup\n",
    "import numpy as np\n",
    "import pandas as pd"
   ]
  },
  {
   "cell_type": "code",
   "execution_count": null,
   "metadata": {
    "collapsed": true
   },
   "outputs": [],
   "source": [
    "company_list="
   ]
  },
  {
   "cell_type": "code",
   "execution_count": 432,
   "metadata": {
    "collapsed": false
   },
   "outputs": [],
   "source": [
    "url='http://www.merolagani.com/CompanyList.aspx'\n",
    "req=requests.get(url)\n",
    "soup=BeautifulSoup(req.text,'html.parser')\n",
    "div=soup.find(\"div\",attrs={'id':'ctl00_ContentPlaceHolder1_rptSector_ctl00_divData'})\n",
    "links=div.find_all('a',href=True)\n"
   ]
  },
  {
   "cell_type": "code",
   "execution_count": 440,
   "metadata": {
    "collapsed": false
   },
   "outputs": [],
   "source": [
    "compUrl=[]\n",
    "for link in links:\n",
    "    compUrl.append('http://www.merolagani.com/CompanyDetail.aspx?symbol='+link.text)"
   ]
  },
  {
   "cell_type": "code",
   "execution_count": 441,
   "metadata": {
    "collapsed": false
   },
   "outputs": [
    {
     "data": {
      "text/plain": [
       "['http://www.merolagani.com/CompanyDetail.aspx?symbol=ADBL',\n",
       " 'http://www.merolagani.com/CompanyDetail.aspx?symbol=BOK',\n",
       " 'http://www.merolagani.com/CompanyDetail.aspx?symbol=CBL',\n",
       " 'http://www.merolagani.com/CompanyDetail.aspx?symbol=CTBNL',\n",
       " 'http://www.merolagani.com/CompanyDetail.aspx?symbol=CZBIL',\n",
       " 'http://www.merolagani.com/CompanyDetail.aspx?symbol=EBL',\n",
       " 'http://www.merolagani.com/CompanyDetail.aspx?symbol=GBIME',\n",
       " 'http://www.merolagani.com/CompanyDetail.aspx?symbol=GRAND',\n",
       " 'http://www.merolagani.com/CompanyDetail.aspx?symbol=HBL',\n",
       " 'http://www.merolagani.com/CompanyDetail.aspx?symbol=JBNL',\n",
       " 'http://www.merolagani.com/CompanyDetail.aspx?symbol=KBL',\n",
       " 'http://www.merolagani.com/CompanyDetail.aspx?symbol=KIST',\n",
       " 'http://www.merolagani.com/CompanyDetail.aspx?symbol=LBL',\n",
       " 'http://www.merolagani.com/CompanyDetail.aspx?symbol=LUBL',\n",
       " 'http://www.merolagani.com/CompanyDetail.aspx?symbol=MBL',\n",
       " 'http://www.merolagani.com/CompanyDetail.aspx?symbol=MEGA',\n",
       " 'http://www.merolagani.com/CompanyDetail.aspx?symbol=NABIL',\n",
       " 'http://www.merolagani.com/CompanyDetail.aspx?symbol=NBB',\n",
       " 'http://www.merolagani.com/CompanyDetail.aspx?symbol=NBL',\n",
       " 'http://www.merolagani.com/CompanyDetail.aspx?symbol=NCCB',\n",
       " 'http://www.merolagani.com/CompanyDetail.aspx?symbol=NIB',\n",
       " 'http://www.merolagani.com/CompanyDetail.aspx?symbol=NICA',\n",
       " 'http://www.merolagani.com/CompanyDetail.aspx?symbol=NMB',\n",
       " 'http://www.merolagani.com/CompanyDetail.aspx?symbol=PCBL',\n",
       " 'http://www.merolagani.com/CompanyDetail.aspx?symbol=SANIMA',\n",
       " 'http://www.merolagani.com/CompanyDetail.aspx?symbol=SBI',\n",
       " 'http://www.merolagani.com/CompanyDetail.aspx?symbol=SBL',\n",
       " 'http://www.merolagani.com/CompanyDetail.aspx?symbol=SCB',\n",
       " 'http://www.merolagani.com/CompanyDetail.aspx?symbol=SRBL',\n",
       " 'http://www.merolagani.com/CompanyDetail.aspx?symbol=CCBL',\n",
       " 'http://www.merolagani.com/CompanyDetail.aspx?symbol=BOAN',\n",
       " 'http://www.merolagani.com/CompanyDetail.aspx?symbol=PBL',\n",
       " 'http://www.merolagani.com/CompanyDetail.aspx?symbol=PRVU']"
      ]
     },
     "execution_count": 441,
     "metadata": {},
     "output_type": "execute_result"
    }
   ],
   "source": [
    "compUrl"
   ]
  },
  {
   "cell_type": "code",
   "execution_count": 411,
   "metadata": {
    "collapsed": false
   },
   "outputs": [],
   "source": [
    "def lagani(url):\n",
    "    nblvalues = []\n",
    "    \n",
    "    table=soup.find('table',attrs={'class':'table-zeromargin'}) \n",
    "    tds=table.findChildren('td')\n",
    "    for i in tds:\n",
    "        if i.string:\n",
    "            text = i.string.replace(\"0\\xa0-\\xa0\\r\\n\",\"\")\n",
    "            text = text.replace(\"\\r\\n\",'')\n",
    "            text = text.replace(\"$nbsp\",'')\n",
    "            text = text.strip(\"\\n\")\n",
    "            text = text.strip(\" \")\n",
    "            if text:\n",
    "                nblvalues.append(\"a\"+text)\n",
    "            else:\n",
    "                nblvalues.append(\"b Null\")\n",
    "        else:\n",
    "            texts = i.text.replace(\"0\\xa0-\\xa0\\r\\n\",\"\")\n",
    "            texts = texts.replace(\"\\r\\n\",'')\n",
    "            texts = texts.strip(\"\\n\")\n",
    "            texts = texts.strip(\" \")\n",
    "            nblvalues.append(\"c\"+ texts)\n",
    "    return nblvalues\n",
    "    \n"
   ]
  },
  {
   "cell_type": "code",
   "execution_count": 412,
   "metadata": {
    "collapsed": false
   },
   "outputs": [
    {
     "data": {
      "text/plain": [
       "['c2,270.00',\n",
       " 'b Null',\n",
       " 'a2016/05/18 03:00:00',\n",
       " 'a1,602.0                                    2,700.00',\n",
       " 'a1,999.49',\n",
       " 'a19.35%',\n",
       " 'c58.11 (FY: 072-073, Q: 3)',\n",
       " 'a39.06',\n",
       " 'c6.48% (FY: 071-072)',\n",
       " 'c30.00% (FY: 071-072)',\n",
       " 'b Null',\n",
       " 'a82,974,449,670.00']"
      ]
     },
     "execution_count": 412,
     "metadata": {},
     "output_type": "execute_result"
    }
   ],
   "source": [
    "lagani()\n",
    "\n"
   ]
  },
  {
   "cell_type": "code",
   "execution_count": 396,
   "metadata": {
    "collapsed": false
   },
   "outputs": [],
   "source": [
    "df = pd.DataFrame(data=lagani())"
   ]
  },
  {
   "cell_type": "code",
   "execution_count": 401,
   "metadata": {
    "collapsed": false
   },
   "outputs": [
    {
     "data": {
      "text/html": [
       "<div>\n",
       "<table border=\"1\" class=\"dataframe\">\n",
       "  <thead>\n",
       "    <tr style=\"text-align: right;\">\n",
       "      <th></th>\n",
       "      <th>0</th>\n",
       "      <th>1</th>\n",
       "      <th>2</th>\n",
       "      <th>3</th>\n",
       "      <th>4</th>\n",
       "      <th>5</th>\n",
       "      <th>6</th>\n",
       "      <th>7</th>\n",
       "      <th>8</th>\n",
       "      <th>9</th>\n",
       "      <th>10</th>\n",
       "      <th>11</th>\n",
       "    </tr>\n",
       "  </thead>\n",
       "  <tbody>\n",
       "    <tr>\n",
       "      <th>0</th>\n",
       "      <td>32,270.00</td>\n",
       "      <td>2 Null</td>\n",
       "      <td>12016/05/18 03:00:00</td>\n",
       "      <td>11,602.0                                    2,...</td>\n",
       "      <td>11,999.49</td>\n",
       "      <td>119.35%</td>\n",
       "      <td>358.11 (FY: 072-073, Q: 3)</td>\n",
       "      <td>139.06</td>\n",
       "      <td>36.48% (FY: 071-072)</td>\n",
       "      <td>330.00% (FY: 071-072)</td>\n",
       "      <td>2 Null</td>\n",
       "      <td>182,974,449,670.00</td>\n",
       "    </tr>\n",
       "  </tbody>\n",
       "</table>\n",
       "</div>"
      ],
      "text/plain": [
       "          0       1                     2   \\\n",
       "0  32,270.00  2 Null  12016/05/18 03:00:00   \n",
       "\n",
       "                                                  3          4        5   \\\n",
       "0  11,602.0                                    2,...  11,999.49  119.35%   \n",
       "\n",
       "                           6       7                     8   \\\n",
       "0  358.11 (FY: 072-073, Q: 3)  139.06  36.48% (FY: 071-072)   \n",
       "\n",
       "                      9       10                  11  \n",
       "0  330.00% (FY: 071-072)  2 Null  182,974,449,670.00  "
      ]
     },
     "execution_count": 401,
     "metadata": {},
     "output_type": "execute_result"
    }
   ],
   "source": [
    "df.transpose()"
   ]
  },
  {
   "cell_type": "code",
   "execution_count": 402,
   "metadata": {
    "collapsed": true
   },
   "outputs": [],
   "source": [
    "df.to_excel(\"lagani.xlsx\")"
   ]
  }
 ],
 "metadata": {
  "kernelspec": {
   "display_name": "Python 3",
   "language": "python",
   "name": "python3"
  },
  "language_info": {
   "codemirror_mode": {
    "name": "ipython",
    "version": 3
   },
   "file_extension": ".py",
   "mimetype": "text/x-python",
   "name": "python",
   "nbconvert_exporter": "python",
   "pygments_lexer": "ipython3",
   "version": "3.5.1"
  }
 },
 "nbformat": 4,
 "nbformat_minor": 0
}
