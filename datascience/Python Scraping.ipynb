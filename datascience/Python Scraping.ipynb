{
 "cells": [
  {
   "cell_type": "code",
   "execution_count": 2,
   "metadata": {
    "collapsed": true
   },
   "outputs": [],
   "source": [
    "import requests\n"
   ]
  },
  {
   "cell_type": "code",
   "execution_count": 4,
   "metadata": {
    "collapsed": true
   },
   "outputs": [],
   "source": [
    "url='http://www.mfd.gov.np'"
   ]
  },
  {
   "cell_type": "code",
   "execution_count": 6,
   "metadata": {
    "collapsed": true
   },
   "outputs": [],
   "source": [
    "req=requests.get(url)"
   ]
  },
  {
   "cell_type": "code",
   "execution_count": null,
   "metadata": {
    "collapsed": true
   },
   "outputs": [],
   "source": [
    "req"
   ]
  },
  {
   "cell_type": "code",
   "execution_count": 8,
   "metadata": {
    "collapsed": false
   },
   "outputs": [
    {
     "data": {
      "text/plain": [
       "'<!DOCTYPE html>\\n<html>\\n<head>\\n<title>Meteorological Forecasting Division</title>\\n\\n\\t<meta name=\"viewport\"\\n\\tcontent=\"width=device-width, initial-scale=1.0, user-scalable=no\">\\n  <meta http-equiv=\"Content-Type\" content=\"text/html;charset=utf-8\"/>\\n\\t<link href=\"/mfd.gov.np/_bootstrap/css/bootstrap.css\"\\n\\trel=\"stylesheet\">\\n\\t<link href=\"/mfd.gov.np/_stylesheets/mfd.css\" rel=\"stylesheet\">\\n\\t<link rel=\"icon\"\\n      type=\"image/png\" \\n      href=\"/mfd.gov.np/_req/favicon.png\">\\n\\t\\t\\t\\t\\t\\t\\n\\t<!-- HTML5 Shim and Respond.js IE8 support of HTML5 elements and media queries -->\\n    <!-- WARNING: Respond.js doesn\\'t work if you view the page via file:// -->\\n    <!--[if lt IE 9]>\\n\\t<script src=\"/mfd.gov.np/_js/html5shiv.js\"></script>\\n\\t<script src=\"/mfd.gov.np/_js/respond.min.js\"></script>\\n\\n\\n\\t<![endif]-->\\n</head>\\n\\n<body>\\n<div class=\"site-header\">\\n\\t<div class=\"container\">\\n\\t\\t<img width=\"64px\" src=\"/mfd.gov.np/_req/logo.png\" />\\n\\t\\t<h2 style=\"margin-bottom: 5px\">Government of Nepal</h2>\\n\\t\\t<h2>Department of Hydrology and Meteorology</h2>\\n\\t\\t<h1>Meteorological Forecasting Division</h1>\\n\\n\\t</div>\\n\\t<div class=\"container\">\\n\\t\\t<div class=\"navbar navbar-inverse navbar-static-top\" role=\"navigation\">\\n\\t\\t\\t<div class=\"navbar-header\">\\n\\t\\t\\t\\t<button type=\"button\" class=\"navbar-toggle\" data-toggle=\"collapse\"\\n\\t\\t\\t\\t\\t\\tdata-target=\".navbar-collapse\">\\n\\t\\t\\t\\t\\t<span class=\"sr-only\">Toggle navigation</span> <span\\n\\t\\t\\t\\t\\t\\t\\tclass=\"icon-bar\"></span> <span class=\"icon-bar\"></span> <span\\n\\t\\t\\t\\t\\t\\t\\tclass=\"icon-bar\"></span>\\n\\t\\t\\t\\t</button>\\n\\t\\t\\t\\t<!-- <a class=\"navbar-brand\" href=\"#\">MFD</a> -->\\n\\t\\t\\t</div>\\n\\t\\t\\t<div class=\"navbar-collapse collapse\">\\n\\t\\t\\t\\t<ul class=\"nav navbar-nav\">\\n\\t\\t\\t\\t\\t<li><a href=\"/\">Home</a></li><li><a href=\"/weather/\">Weather</a></li><li><a href=\"/satellite/\">Satellite</a></li><li><a href=\"/mountaineering/\">Mountaineering</a></li><li><a href=\"/report/\">Archives</a></li>\\n\\t\\t\\t\\t</ul>\\n\\t\\t\\t</div>\\n\\t\\t</div>\\n\\t</div>\\n</div>\\n\\t\\n<DIV class=\"carousel slide\" id=\"mainCarousel\" data-ride=\"carousel\"><div class=\"carousel-inner\"></div><a class=\"left carousel-control\" href=\"#mainCarousel\" data-slide=\"prev\"><span class=\"glyphicon glyphicon-chevron-left\"></span></a><a class=\"right carousel-control\" href=\"#mainCarousel\" data-slide=\"next\"><span class=\"glyphicon glyphicon-chevron-right\"></span></a></DIV><DIV class=\"container main-body\"><div class=\"row\"><div class=\"col-md-4\"><DIV class=\"highlight-box forecast-box\"><h3>Forecasts <em>2016-05-16 18:00 NPT</em></h3><div></div><div class=\"carousel slide\" data-ride=\"carousel\" id=\"forecast_carousel_1\"><ol class=\"carousel-indicators\"><li data-target=\"#forecast_carousel_1\" data-slide-to=\"0\" data-ride=\"carousel\" data-toggle=\"tooltip\" data-placement=\"top\" title=\"Nepal\" class=\"active\"></li></ol><div class=\"carousel-inner\"><div class=\"item active\"><div><h4>Nepal</h4><b>Tonight</b><p>Generally cloudy in the central region along with in the eastern and western hilly regions and partly cloudy in the rest of the country. Brief rain or thundershowers to occur at a few places of the eastern and central hilly regions and light rain or thunder likely to occur at one or two places of the western hilly region. </p><b>Tomorrow</b><p>Partly cloudy throughout the country but becoming generally cloudy in the central and western hilly regions and in the eastern region towards afternoon. Temporary rain or thundershowers possible at some places of the hilly regions. </p></div></div></div><div class=\"text-center\"><a class=\"btn btn-info\" href=\"/weather/#forecasts\">More detail...</a></div></div></DIV></div><div class=\"col-md-4\"><DIV class=\"highlight-box recent-news-box\"><h3>Featured</h3><div class=\"content\"><div class=\"content-preview\"><a href=\"/content/?id=134\"><img class=\"thumb-left\"></img></a><div class=\"content-preview-text\"><h4><a href=\"/content/?id=134\">Monsoon Onset in Nepal (2015)</a></h4><p>A weak surge of monsoon has entered in the eastern parts of Nepal today</p></div></div><div class=\"content-preview\"><a href=\"/content/?id=116\"><img class=\"thumb-right\"></img></a><div class=\"content-preview-text\"><h4><a href=\"/content/?id=116\">Landslides block Kali Gandaki, locals flee for safety</a></h4><p>A massive landslide has blocked Kali Gandaki River at Baisari in Bhagwati VDC of  .................</p></div></div><div class=\"content-preview\"><a href=\"/content/?id=115\"><img class=\"thumb-left\"></img></a><div class=\"content-preview-text\"><h4><a href=\"/content/?id=115\">हावाहुरी र वर्षाले जनजीवन प्रभावित</a></h4><p> काठमाडौं उपत्यकासहित देशभर हावाहुरीसँगै परेको पानीले  जनजीवन प्रभावित ..................</p></div></div></div></DIV></div><div class=\"col-md-4\"><DIV class=\"highlight-box forecast-box\"><h3>Mountain <em>2016-05-16 18:00 NPT</em></h3><div class=\"carousel slide\" data-ride=\"carousel\" id=\"forecast_carousel_2\"><ol class=\"carousel-indicators\"><li data-target=\"#forecast_carousel_2\" data-slide-to=\"0\" data-ride=\"carousel\" data-toggle=\"tooltip\" data-placement=\"top\" class=\"active\"></li></ol><div class=\"carousel-inner\"><div class=\"item active\"><div><h4>Forecasts for Expedition</h4><b>Western Region</b><p>Partly cloudy with light snowfall.</p><b>Central Region</b><p>Generally cloudy with brief snow showers.</p><b>Eastern Region</b><p>Cloudy with brief snow showers.</p><p style=\"border-top: 1px solid #eee; text-align:center\"><small>Valid for next 24 hours</small></p></div></div></div><div class=\"text-center\"><a class=\"btn btn-info\" href=\"/mountaineering\">More detail...</a></div></div></DIV></div></div><div class=\"row\"><div class=\"col-md-4\"><DIV class=\"highlight-box weather-data-table\"><h3>Observations <em>2016-05-16 17:45 NPT</em></h3><table class=\"table\" style=\"margin-bottom: 0px\"><tr><th>Station</th><th class=\"center\">Maximum Temp.<br/>(°C)</th><th class=\"center\">Minimum Temp.<br/>(°C)</th><th class=\"center\">24 hrs Rainfall<br/>(mm)</th></tr><tr><td>Dadeldhura</td><td class=\"center\">28.1</td><td class=\"center\">14.9</td><td class=\"center\">0.0</td></tr><tr><td>Dipayal</td><td class=\"center\">38.3</td><td class=\"center\">19.6</td><td class=\"center\">0.0</td></tr><tr><td>Dhangadi</td><td class=\"center\">39.9</td><td class=\"center\">23.4</td><td class=\"center\">Traces</td></tr><tr><td>Birendranagar</td><td class=\"center\">37.9</td><td class=\"center\">20.0</td><td class=\"center\">1.0</td></tr><tr><td>Nepalgunj</td><td class=\"center\">42.4</td><td class=\"center\">25.5</td><td class=\"center\">0.0</td></tr><tr><td>Jumla</td><td class=\"center\">26.8</td><td class=\"center\">8.5</td><td class=\"center\">0.0</td></tr><tr><td>Dang</td><td class=\"center\">36.8</td><td class=\"center\">23.0</td><td class=\"center\">0.0</td></tr><tr><td>Pokhara</td><td class=\"center\">32.1</td><td class=\"center\">19.4</td><td class=\"center\">16.5</td></tr><tr><td>Bhairahawa</td><td class=\"center\">39.5</td><td class=\"center\">25.0</td><td class=\"center\">0.0</td></tr><tr><td>Simara</td><td class=\"center\">35.8</td><td class=\"center\">24.8</td><td class=\"center\">11.1</td></tr><tr><td>Kathmandu</td><td class=\"center\">30.8</td><td class=\"center\">18.0</td><td class=\"center\">0.3</td></tr><tr><td>Okhaldhunga</td><td class=\"center\">25.8</td><td class=\"center\">17.1</td><td class=\"center\">2.6</td></tr><tr><td>Taplejung</td><td class=\"center\">25.4</td><td class=\"center\">15.5</td><td class=\"center\">16.5</td></tr><tr><td>Dhankuta</td><td class=\"center\">28.0</td><td class=\"center\">19.8</td><td class=\"center\">Traces</td></tr><tr><td>Biratnagar</td><td class=\"center\">32.3</td><td class=\"center\">24.3</td><td class=\"center\">0.0</td></tr><tr><td>Jomsom</td><td class=\"center\">22.0</td><td class=\"center\">10.0</td><td class=\"center\">0.0*</td></tr><tr><td>Dharan</td><td class=\"center\">31.4</td><td class=\"center\">24.0</td><td class=\"center\">2.9*</td></tr><tr><td>Lumle</td><td class=\"center\">25.2</td><td class=\"center\">15.0</td><td class=\"center\">18.8*</td></tr><tr><td>Jankapur</td><td class=\"center\">36.0</td><td class=\"center\">23.5</td><td class=\"center\">0.0*</td></tr><tr><td>Jiri</td><td class=\"center\">0.0</td><td class=\"center\">0.0</td><td class=\"center\">0.0*</td></tr><tr><td align=\"right\" colspan=\"4\"><small>* Daily rainfall data ending at 08:45 AM NPT</small></td></tr></table></DIV></div><div class=\"col-md-4\"><DIV class=\"highlight-box recent-news-box\"><h3>Recent News and Releases</h3><div class=\"content\"><div class=\"content-preview\"><a href=\"/content/?id=221\"><img class=\"thumb-left\"></img></a><div class=\"content-preview-text\"><h4><a href=\"/content/?id=221\">Special Weather Bulletin for Cold Weather</a></h4><p>The minimum temperature recorded on 24th of December 2015 was 00 C for Kathmandu Airport, -8.40C for Jumla  and 1.60C for Taplejung</p></div></div><div class=\"content-preview\"><a href=\"/content/?id=219\"><img class=\"thumb-right\"></img></a><div class=\"content-preview-text\"><h4><a href=\"/content/?id=219\">Withdrawal of Monsoon 2015</a></h4><p> Monsoon has withdrawn completely from Nepal on 3rd October, 2015</p></div></div><div class=\"content-preview\"><a href=\"/content/?id=218\"><img class=\"thumb-left\"></img></a><div class=\"content-preview-text\"><h4><a href=\"/content/?id=218\">Withdrawal of Monsoon from Nepal</a></h4><p>Monsoon has withdrawn from the western and central regions of Nepal as of today</p></div></div><div class=\"content-preview\"><a href=\"/content/?id=134\"><img class=\"thumb-right\"></img></a><div class=\"content-preview-text\"><h4><a href=\"/content/?id=134\">Monsoon Onset in Nepal (2015)</a></h4><p>A weak surge of monsoon has entered in the eastern parts of Nepal today</p></div></div><div class=\"content-preview\"><a href=\"/content/?id=129\"><img class=\"thumb-left\"></img></a><div class=\"content-preview-text\"><h4><a href=\"/content/?id=129\">Press Release for Monsoon Onset and Hot Temperature</a></h4><p>Monsoon normally enters in Nepal on 10th June from the east and spread over rest of the country in few days. </p></div></div></div></DIV></div><div class=\"col-md-4\"><div><div><DIV class=\"highlight-box satellite-box\"><h3>Satellite Image</h3><a href=\"satellite/\"><img src=\"/mfd.gov.np/_files/images/FY2E_2016_05_17_05_31_L_PJ1_IR1.JPG\"></img></a></DIV></div><div></div></div></div></div><div class=\"row\"></div></DIV><footer>\\n\\t<div class=\"container\">\\n\\t\\t<div class=\"row\">\\n\\t\\t\\t<div class=\"col-sm-6\">\\n\\t\\t\\t\\t<h3>Contact Us</h3>\\n\\t\\t\\t\\t<h4>Meteorological Forecasting Division</h4>\\n\\t\\t\\t\\t<p>Gauchar, Tribhuvan International Airport<br/>\\n\\t\\t\\t\\t\\tKathmandu, Nepal<br/>\\n\\t\\t\\t\\t\\t<abbr title=\"Phone\"><span class=\"glyphicon glyphicon-earphone\"></span></abbr>:\\n\\t\\t\\t\\t\\t+977 1 4486869<br/>\\n\\t\\t\\t\\t\\t<abbr title=\"Email\"><span class=\"glyphicon glyphicon-envelope\"></span></abbr>:\\n\\t\\t\\t\\t\\t<a href=\"mailto:info@mfd.gov.np\">info@mfd.gov.np</a>\\n\\t\\t\\t\\t</p>\\n\\t\\t\\t\\t<p><b>Please dial and listen to us for notice board service</b>\\n\\t\\t\\t\\t<dl class=\"footer-number-list dl-horizontal\">\\n\\t\\t\\t\\t\\t<dt>Kathmandu:</dt><dd>1618 07 07 33333 (for daily weather updates)</dd>\\n\\t\\t\\t\\t\\t<dt>Surkhet:</dt><dd>1618 083 523519 (for daily weather data)</dd>\\n\\t\\t\\t\\t\\t<dt>Pokhara:</dt><dd>1618 061 465299 (for daily weather data)</dd>\\n\\t\\t\\t\\t\\t<dt>Dharan:</dt><dd>1618 025 520272 (for daily weather data)</dd>\\n\\t\\t\\t\\t</dl>\\n\\t\\t\\t</div>\\n\\t\\t\\t<div class=\"col-sm-6\">\\n\\t\\t\\t\\t<h3>Links</h3>\\n\\t\\t\\t\\t<h4>\\n\\t\\t\\t\\t\\t<a target=\"_blank\" href=\"http://www.dhm.gov.np\">Department of Hydrology and\\n\\t\\t\\t\\t\\t\\tMeteorology</a>\\n\\t\\t\\t\\t</h4>\\n\\n\\t\\t\\t\\t<h4>\\n\\t\\t\\t\\t\\t<a target=\"_blank\" href=\"http://www.hydrology.gov.np\">Flood        Forecasting Division</a>\\n\\t\\t\\t\\t</h4>\\n\\t\\t\\t\\t<h4>\\n\\t\\t\\t\\t\\t<a target=\"_blank\" href=\"http://www.moste.gov.np\">Ministry of Science, Technology &amp; Environment</a>\\n\\t\\t\\t\\t</h4>\\n\\t\\t\\t</div>\\n\\t\\t</div>\\n\\t</div>\\n\\n\\n</footer>\\n<div class=\"copyright-line\">\\n\\t<div class=\"container\">\\n\\n\\t\\t<div class=\"row\">\\n\\n\\t\\t\\t<div class=\"col-sm-6\">\\n\\n\\t\\t\\t\\t<p><small>Copyright &copy; 2016 Meteorological Forecasting Divison, DHM</small></p>\\n\\t\\t\\t</div>\\n\\n\\t\\t\\t<div class=\"col-sm-6\">\\n\\n\\t\\t\\t\\t<p><small>\\n\\n\\t\\t\\t\\t\\t\\tDesigned and developed by <a href=\"http://www.rts.com.np\">Real\\n\\n\\t\\t\\t\\t\\t\\t\\tTime Solutions Pvt. Ltd.</a></small>\\n\\t\\t\\t\\t</p>\\n\\t\\t\\t</div>\\n\\t\\t</div>\\n\\t</div>\\n</div>\\n<script src=\"/mfd.gov.np/_jquery/jquery-1.11.0.min.js\"></script>\\n<script src=\"/mfd.gov.np/_bootstrap/js/bootstrap.min.js\"></script>\\n\\n\\n\\n<script src=\"/mfd.gov.np/_js/highstock.js\"></script>\\n\\n<script > $(\\'li\\').tooltip(); </script>\\r\\n\\t\\n<script>\\n\\t(function(i,s,o,g,r,a,m){i[\\'GoogleAnalyticsObject\\']=r;i[r]=i[r]||function(){\\n\\t\\t\\t(i[r].q=i[r].q||[]).push(arguments)},i[r].l=1*new Date();a=s.createElement(o),\\n\\t\\t\\tm=s.getElementsByTagName(o)[0];a.async=1;a.src=g;m.parentNode.insertBefore(a,m)\\n\\t})(window,document,\\'script\\',\\'//www.google-analytics.com/analytics.js\\',\\'ga\\');\\n\\n\\tga(\\'create\\', \\'UA-48154100-1\\', \\'www.mfd.gov.np\\');\\n\\tga(\\'send\\', \\'pageview\\');\\n\\n</script>\\n\\n</body>\\n</html>'"
      ]
     },
     "execution_count": 8,
     "metadata": {},
     "output_type": "execute_result"
    }
   ],
   "source": [
    "req.text"
   ]
  },
  {
   "cell_type": "code",
   "execution_count": 10,
   "metadata": {
    "collapsed": true
   },
   "outputs": [],
   "source": [
    "from bs4 import BeautifulSoup"
   ]
  },
  {
   "cell_type": "code",
   "execution_count": 13,
   "metadata": {
    "collapsed": false
   },
   "outputs": [],
   "source": [
    "soup=BeautifulSoup(req.text,'html.parser')"
   ]
  },
  {
   "cell_type": "code",
   "execution_count": 14,
   "metadata": {
    "collapsed": false
   },
   "outputs": [
    {
     "data": {
      "text/plain": [
       "<!DOCTYPE html>\n",
       "\n",
       "<html>\n",
       "<head>\n",
       "<title>Meteorological Forecasting Division</title>\n",
       "<meta content=\"width=device-width, initial-scale=1.0, user-scalable=no\" name=\"viewport\">\n",
       "<meta content=\"text/html;charset=utf-8\" http-equiv=\"Content-Type\"/>\n",
       "<link href=\"/mfd.gov.np/_bootstrap/css/bootstrap.css\" rel=\"stylesheet\">\n",
       "<link href=\"/mfd.gov.np/_stylesheets/mfd.css\" rel=\"stylesheet\">\n",
       "<link href=\"/mfd.gov.np/_req/favicon.png\" rel=\"icon\" type=\"image/png\">\n",
       "<!-- HTML5 Shim and Respond.js IE8 support of HTML5 elements and media queries -->\n",
       "<!-- WARNING: Respond.js doesn't work if you view the page via file:// -->\n",
       "<!--[if lt IE 9]>\n",
       "\t<script src=\"/mfd.gov.np/_js/html5shiv.js\"></script>\n",
       "\t<script src=\"/mfd.gov.np/_js/respond.min.js\"></script>\n",
       "\n",
       "\n",
       "\t<![endif]-->\n",
       "</link></link></link></meta></head>\n",
       "<body>\n",
       "<div class=\"site-header\">\n",
       "<div class=\"container\">\n",
       "<img src=\"/mfd.gov.np/_req/logo.png\" width=\"64px\"/>\n",
       "<h2 style=\"margin-bottom: 5px\">Government of Nepal</h2>\n",
       "<h2>Department of Hydrology and Meteorology</h2>\n",
       "<h1>Meteorological Forecasting Division</h1>\n",
       "</div>\n",
       "<div class=\"container\">\n",
       "<div class=\"navbar navbar-inverse navbar-static-top\" role=\"navigation\">\n",
       "<div class=\"navbar-header\">\n",
       "<button class=\"navbar-toggle\" data-target=\".navbar-collapse\" data-toggle=\"collapse\" type=\"button\">\n",
       "<span class=\"sr-only\">Toggle navigation</span> <span class=\"icon-bar\"></span> <span class=\"icon-bar\"></span> <span class=\"icon-bar\"></span>\n",
       "</button>\n",
       "<!-- <a class=\"navbar-brand\" href=\"#\">MFD</a> -->\n",
       "</div>\n",
       "<div class=\"navbar-collapse collapse\">\n",
       "<ul class=\"nav navbar-nav\">\n",
       "<li><a href=\"/\">Home</a></li><li><a href=\"/weather/\">Weather</a></li><li><a href=\"/satellite/\">Satellite</a></li><li><a href=\"/mountaineering/\">Mountaineering</a></li><li><a href=\"/report/\">Archives</a></li>\n",
       "</ul>\n",
       "</div>\n",
       "</div>\n",
       "</div>\n",
       "</div>\n",
       "<div class=\"carousel slide\" data-ride=\"carousel\" id=\"mainCarousel\"><div class=\"carousel-inner\"></div><a class=\"left carousel-control\" data-slide=\"prev\" href=\"#mainCarousel\"><span class=\"glyphicon glyphicon-chevron-left\"></span></a><a class=\"right carousel-control\" data-slide=\"next\" href=\"#mainCarousel\"><span class=\"glyphicon glyphicon-chevron-right\"></span></a></div><div class=\"container main-body\"><div class=\"row\"><div class=\"col-md-4\"><div class=\"highlight-box forecast-box\"><h3>Forecasts <em>2016-05-16 18:00 NPT</em></h3><div></div><div class=\"carousel slide\" data-ride=\"carousel\" id=\"forecast_carousel_1\"><ol class=\"carousel-indicators\"><li class=\"active\" data-placement=\"top\" data-ride=\"carousel\" data-slide-to=\"0\" data-target=\"#forecast_carousel_1\" data-toggle=\"tooltip\" title=\"Nepal\"></li></ol><div class=\"carousel-inner\"><div class=\"item active\"><div><h4>Nepal</h4><b>Tonight</b><p>Generally cloudy in the central region along with in the eastern and western hilly regions and partly cloudy in the rest of the country. Brief rain or thundershowers to occur at a few places of the eastern and central hilly regions and light rain or thunder likely to occur at one or two places of the western hilly region. </p><b>Tomorrow</b><p>Partly cloudy throughout the country but becoming generally cloudy in the central and western hilly regions and in the eastern region towards afternoon. Temporary rain or thundershowers possible at some places of the hilly regions. </p></div></div></div><div class=\"text-center\"><a class=\"btn btn-info\" href=\"/weather/#forecasts\">More detail...</a></div></div></div></div><div class=\"col-md-4\"><div class=\"highlight-box recent-news-box\"><h3>Featured</h3><div class=\"content\"><div class=\"content-preview\"><a href=\"/content/?id=134\"><img class=\"thumb-left\"/></a><div class=\"content-preview-text\"><h4><a href=\"/content/?id=134\">Monsoon Onset in Nepal (2015)</a></h4><p>A weak surge of monsoon has entered in the eastern parts of Nepal today</p></div></div><div class=\"content-preview\"><a href=\"/content/?id=116\"><img class=\"thumb-right\"/></a><div class=\"content-preview-text\"><h4><a href=\"/content/?id=116\">Landslides block Kali Gandaki, locals flee for safety</a></h4><p>A massive landslide has blocked Kali Gandaki River at Baisari in Bhagwati VDC of  .................</p></div></div><div class=\"content-preview\"><a href=\"/content/?id=115\"><img class=\"thumb-left\"/></a><div class=\"content-preview-text\"><h4><a href=\"/content/?id=115\">हावाहुरी र वर्षाले जनजीवन प्रभावित</a></h4><p> काठमाडौं उपत्यकासहित देशभर हावाहुरीसँगै परेको पानीले  जनजीवन प्रभावित ..................</p></div></div></div></div></div><div class=\"col-md-4\"><div class=\"highlight-box forecast-box\"><h3>Mountain <em>2016-05-16 18:00 NPT</em></h3><div class=\"carousel slide\" data-ride=\"carousel\" id=\"forecast_carousel_2\"><ol class=\"carousel-indicators\"><li class=\"active\" data-placement=\"top\" data-ride=\"carousel\" data-slide-to=\"0\" data-target=\"#forecast_carousel_2\" data-toggle=\"tooltip\"></li></ol><div class=\"carousel-inner\"><div class=\"item active\"><div><h4>Forecasts for Expedition</h4><b>Western Region</b><p>Partly cloudy with light snowfall.</p><b>Central Region</b><p>Generally cloudy with brief snow showers.</p><b>Eastern Region</b><p>Cloudy with brief snow showers.</p><p style=\"border-top: 1px solid #eee; text-align:center\"><small>Valid for next 24 hours</small></p></div></div></div><div class=\"text-center\"><a class=\"btn btn-info\" href=\"/mountaineering\">More detail...</a></div></div></div></div></div><div class=\"row\"><div class=\"col-md-4\"><div class=\"highlight-box weather-data-table\"><h3>Observations <em>2016-05-16 17:45 NPT</em></h3><table class=\"table\" style=\"margin-bottom: 0px\"><tr><th>Station</th><th class=\"center\">Maximum Temp.<br/>(°C)</th><th class=\"center\">Minimum Temp.<br/>(°C)</th><th class=\"center\">24 hrs Rainfall<br/>(mm)</th></tr><tr><td>Dadeldhura</td><td class=\"center\">28.1</td><td class=\"center\">14.9</td><td class=\"center\">0.0</td></tr><tr><td>Dipayal</td><td class=\"center\">38.3</td><td class=\"center\">19.6</td><td class=\"center\">0.0</td></tr><tr><td>Dhangadi</td><td class=\"center\">39.9</td><td class=\"center\">23.4</td><td class=\"center\">Traces</td></tr><tr><td>Birendranagar</td><td class=\"center\">37.9</td><td class=\"center\">20.0</td><td class=\"center\">1.0</td></tr><tr><td>Nepalgunj</td><td class=\"center\">42.4</td><td class=\"center\">25.5</td><td class=\"center\">0.0</td></tr><tr><td>Jumla</td><td class=\"center\">26.8</td><td class=\"center\">8.5</td><td class=\"center\">0.0</td></tr><tr><td>Dang</td><td class=\"center\">36.8</td><td class=\"center\">23.0</td><td class=\"center\">0.0</td></tr><tr><td>Pokhara</td><td class=\"center\">32.1</td><td class=\"center\">19.4</td><td class=\"center\">16.5</td></tr><tr><td>Bhairahawa</td><td class=\"center\">39.5</td><td class=\"center\">25.0</td><td class=\"center\">0.0</td></tr><tr><td>Simara</td><td class=\"center\">35.8</td><td class=\"center\">24.8</td><td class=\"center\">11.1</td></tr><tr><td>Kathmandu</td><td class=\"center\">30.8</td><td class=\"center\">18.0</td><td class=\"center\">0.3</td></tr><tr><td>Okhaldhunga</td><td class=\"center\">25.8</td><td class=\"center\">17.1</td><td class=\"center\">2.6</td></tr><tr><td>Taplejung</td><td class=\"center\">25.4</td><td class=\"center\">15.5</td><td class=\"center\">16.5</td></tr><tr><td>Dhankuta</td><td class=\"center\">28.0</td><td class=\"center\">19.8</td><td class=\"center\">Traces</td></tr><tr><td>Biratnagar</td><td class=\"center\">32.3</td><td class=\"center\">24.3</td><td class=\"center\">0.0</td></tr><tr><td>Jomsom</td><td class=\"center\">22.0</td><td class=\"center\">10.0</td><td class=\"center\">0.0*</td></tr><tr><td>Dharan</td><td class=\"center\">31.4</td><td class=\"center\">24.0</td><td class=\"center\">2.9*</td></tr><tr><td>Lumle</td><td class=\"center\">25.2</td><td class=\"center\">15.0</td><td class=\"center\">18.8*</td></tr><tr><td>Jankapur</td><td class=\"center\">36.0</td><td class=\"center\">23.5</td><td class=\"center\">0.0*</td></tr><tr><td>Jiri</td><td class=\"center\">0.0</td><td class=\"center\">0.0</td><td class=\"center\">0.0*</td></tr><tr><td align=\"right\" colspan=\"4\"><small>* Daily rainfall data ending at 08:45 AM NPT</small></td></tr></table></div></div><div class=\"col-md-4\"><div class=\"highlight-box recent-news-box\"><h3>Recent News and Releases</h3><div class=\"content\"><div class=\"content-preview\"><a href=\"/content/?id=221\"><img class=\"thumb-left\"/></a><div class=\"content-preview-text\"><h4><a href=\"/content/?id=221\">Special Weather Bulletin for Cold Weather</a></h4><p>The minimum temperature recorded on 24th of December 2015 was 00 C for Kathmandu Airport, -8.40C for Jumla  and 1.60C for Taplejung</p></div></div><div class=\"content-preview\"><a href=\"/content/?id=219\"><img class=\"thumb-right\"/></a><div class=\"content-preview-text\"><h4><a href=\"/content/?id=219\">Withdrawal of Monsoon 2015</a></h4><p> Monsoon has withdrawn completely from Nepal on 3rd October, 2015</p></div></div><div class=\"content-preview\"><a href=\"/content/?id=218\"><img class=\"thumb-left\"/></a><div class=\"content-preview-text\"><h4><a href=\"/content/?id=218\">Withdrawal of Monsoon from Nepal</a></h4><p>Monsoon has withdrawn from the western and central regions of Nepal as of today</p></div></div><div class=\"content-preview\"><a href=\"/content/?id=134\"><img class=\"thumb-right\"/></a><div class=\"content-preview-text\"><h4><a href=\"/content/?id=134\">Monsoon Onset in Nepal (2015)</a></h4><p>A weak surge of monsoon has entered in the eastern parts of Nepal today</p></div></div><div class=\"content-preview\"><a href=\"/content/?id=129\"><img class=\"thumb-left\"/></a><div class=\"content-preview-text\"><h4><a href=\"/content/?id=129\">Press Release for Monsoon Onset and Hot Temperature</a></h4><p>Monsoon normally enters in Nepal on 10th June from the east and spread over rest of the country in few days. </p></div></div></div></div></div><div class=\"col-md-4\"><div><div><div class=\"highlight-box satellite-box\"><h3>Satellite Image</h3><a href=\"satellite/\"><img src=\"/mfd.gov.np/_files/images/FY2E_2016_05_17_05_31_L_PJ1_IR1.JPG\"/></a></div></div><div></div></div></div></div><div class=\"row\"></div></div><footer>\n",
       "<div class=\"container\">\n",
       "<div class=\"row\">\n",
       "<div class=\"col-sm-6\">\n",
       "<h3>Contact Us</h3>\n",
       "<h4>Meteorological Forecasting Division</h4>\n",
       "<p>Gauchar, Tribhuvan International Airport<br/>\n",
       "\t\t\t\t\tKathmandu, Nepal<br/>\n",
       "<abbr title=\"Phone\"><span class=\"glyphicon glyphicon-earphone\"></span></abbr>:\n",
       "\t\t\t\t\t+977 1 4486869<br/>\n",
       "<abbr title=\"Email\"><span class=\"glyphicon glyphicon-envelope\"></span></abbr>:\n",
       "\t\t\t\t\t<a href=\"mailto:info@mfd.gov.np\">info@mfd.gov.np</a>\n",
       "</p>\n",
       "<p><b>Please dial and listen to us for notice board service</b>\n",
       "<dl class=\"footer-number-list dl-horizontal\">\n",
       "<dt>Kathmandu:</dt><dd>1618 07 07 33333 (for daily weather updates)</dd>\n",
       "<dt>Surkhet:</dt><dd>1618 083 523519 (for daily weather data)</dd>\n",
       "<dt>Pokhara:</dt><dd>1618 061 465299 (for daily weather data)</dd>\n",
       "<dt>Dharan:</dt><dd>1618 025 520272 (for daily weather data)</dd>\n",
       "</dl>\n",
       "</p></div>\n",
       "<div class=\"col-sm-6\">\n",
       "<h3>Links</h3>\n",
       "<h4>\n",
       "<a href=\"http://www.dhm.gov.np\" target=\"_blank\">Department of Hydrology and\n",
       "\t\t\t\t\t\tMeteorology</a>\n",
       "</h4>\n",
       "<h4>\n",
       "<a href=\"http://www.hydrology.gov.np\" target=\"_blank\">Flood        Forecasting Division</a>\n",
       "</h4>\n",
       "<h4>\n",
       "<a href=\"http://www.moste.gov.np\" target=\"_blank\">Ministry of Science, Technology &amp; Environment</a>\n",
       "</h4>\n",
       "</div>\n",
       "</div>\n",
       "</div>\n",
       "</footer>\n",
       "<div class=\"copyright-line\">\n",
       "<div class=\"container\">\n",
       "<div class=\"row\">\n",
       "<div class=\"col-sm-6\">\n",
       "<p><small>Copyright © 2016 Meteorological Forecasting Divison, DHM</small></p>\n",
       "</div>\n",
       "<div class=\"col-sm-6\">\n",
       "<p><small>\n",
       "\n",
       "\t\t\t\t\t\tDesigned and developed by <a href=\"http://www.rts.com.np\">Real\n",
       "\n",
       "\t\t\t\t\t\t\tTime Solutions Pvt. Ltd.</a></small>\n",
       "</p>\n",
       "</div>\n",
       "</div>\n",
       "</div>\n",
       "</div>\n",
       "<script src=\"/mfd.gov.np/_jquery/jquery-1.11.0.min.js\"></script>\n",
       "<script src=\"/mfd.gov.np/_bootstrap/js/bootstrap.min.js\"></script>\n",
       "<script src=\"/mfd.gov.np/_js/highstock.js\"></script>\n",
       "<script> $('li').tooltip(); </script>\n",
       "<script>\n",
       "\t(function(i,s,o,g,r,a,m){i['GoogleAnalyticsObject']=r;i[r]=i[r]||function(){\n",
       "\t\t\t(i[r].q=i[r].q||[]).push(arguments)},i[r].l=1*new Date();a=s.createElement(o),\n",
       "\t\t\tm=s.getElementsByTagName(o)[0];a.async=1;a.src=g;m.parentNode.insertBefore(a,m)\n",
       "\t})(window,document,'script','//www.google-analytics.com/analytics.js','ga');\n",
       "\n",
       "\tga('create', 'UA-48154100-1', 'www.mfd.gov.np');\n",
       "\tga('send', 'pageview');\n",
       "\n",
       "</script>\n",
       "</body>\n",
       "</html>"
      ]
     },
     "execution_count": 14,
     "metadata": {},
     "output_type": "execute_result"
    }
   ],
   "source": [
    "soup"
   ]
  },
  {
   "cell_type": "code",
   "execution_count": 15,
   "metadata": {
    "collapsed": true
   },
   "outputs": [],
   "source": [
    "div=soup.find('div',attrs={'class':'weather-data-table'})"
   ]
  },
  {
   "cell_type": "code",
   "execution_count": 16,
   "metadata": {
    "collapsed": false
   },
   "outputs": [
    {
     "data": {
      "text/plain": [
       "<div class=\"highlight-box weather-data-table\"><h3>Observations <em>2016-05-16 17:45 NPT</em></h3><table class=\"table\" style=\"margin-bottom: 0px\"><tr><th>Station</th><th class=\"center\">Maximum Temp.<br/>(°C)</th><th class=\"center\">Minimum Temp.<br/>(°C)</th><th class=\"center\">24 hrs Rainfall<br/>(mm)</th></tr><tr><td>Dadeldhura</td><td class=\"center\">28.1</td><td class=\"center\">14.9</td><td class=\"center\">0.0</td></tr><tr><td>Dipayal</td><td class=\"center\">38.3</td><td class=\"center\">19.6</td><td class=\"center\">0.0</td></tr><tr><td>Dhangadi</td><td class=\"center\">39.9</td><td class=\"center\">23.4</td><td class=\"center\">Traces</td></tr><tr><td>Birendranagar</td><td class=\"center\">37.9</td><td class=\"center\">20.0</td><td class=\"center\">1.0</td></tr><tr><td>Nepalgunj</td><td class=\"center\">42.4</td><td class=\"center\">25.5</td><td class=\"center\">0.0</td></tr><tr><td>Jumla</td><td class=\"center\">26.8</td><td class=\"center\">8.5</td><td class=\"center\">0.0</td></tr><tr><td>Dang</td><td class=\"center\">36.8</td><td class=\"center\">23.0</td><td class=\"center\">0.0</td></tr><tr><td>Pokhara</td><td class=\"center\">32.1</td><td class=\"center\">19.4</td><td class=\"center\">16.5</td></tr><tr><td>Bhairahawa</td><td class=\"center\">39.5</td><td class=\"center\">25.0</td><td class=\"center\">0.0</td></tr><tr><td>Simara</td><td class=\"center\">35.8</td><td class=\"center\">24.8</td><td class=\"center\">11.1</td></tr><tr><td>Kathmandu</td><td class=\"center\">30.8</td><td class=\"center\">18.0</td><td class=\"center\">0.3</td></tr><tr><td>Okhaldhunga</td><td class=\"center\">25.8</td><td class=\"center\">17.1</td><td class=\"center\">2.6</td></tr><tr><td>Taplejung</td><td class=\"center\">25.4</td><td class=\"center\">15.5</td><td class=\"center\">16.5</td></tr><tr><td>Dhankuta</td><td class=\"center\">28.0</td><td class=\"center\">19.8</td><td class=\"center\">Traces</td></tr><tr><td>Biratnagar</td><td class=\"center\">32.3</td><td class=\"center\">24.3</td><td class=\"center\">0.0</td></tr><tr><td>Jomsom</td><td class=\"center\">22.0</td><td class=\"center\">10.0</td><td class=\"center\">0.0*</td></tr><tr><td>Dharan</td><td class=\"center\">31.4</td><td class=\"center\">24.0</td><td class=\"center\">2.9*</td></tr><tr><td>Lumle</td><td class=\"center\">25.2</td><td class=\"center\">15.0</td><td class=\"center\">18.8*</td></tr><tr><td>Jankapur</td><td class=\"center\">36.0</td><td class=\"center\">23.5</td><td class=\"center\">0.0*</td></tr><tr><td>Jiri</td><td class=\"center\">0.0</td><td class=\"center\">0.0</td><td class=\"center\">0.0*</td></tr><tr><td align=\"right\" colspan=\"4\"><small>* Daily rainfall data ending at 08:45 AM NPT</small></td></tr></table></div>"
      ]
     },
     "execution_count": 16,
     "metadata": {},
     "output_type": "execute_result"
    }
   ],
   "source": [
    "div"
   ]
  },
  {
   "cell_type": "code",
   "execution_count": 18,
   "metadata": {
    "collapsed": true
   },
   "outputs": [],
   "source": [
    "table=div.find('table')"
   ]
  },
  {
   "cell_type": "code",
   "execution_count": 19,
   "metadata": {
    "collapsed": false
   },
   "outputs": [
    {
     "data": {
      "text/plain": [
       "<table class=\"table\" style=\"margin-bottom: 0px\"><tr><th>Station</th><th class=\"center\">Maximum Temp.<br/>(°C)</th><th class=\"center\">Minimum Temp.<br/>(°C)</th><th class=\"center\">24 hrs Rainfall<br/>(mm)</th></tr><tr><td>Dadeldhura</td><td class=\"center\">28.1</td><td class=\"center\">14.9</td><td class=\"center\">0.0</td></tr><tr><td>Dipayal</td><td class=\"center\">38.3</td><td class=\"center\">19.6</td><td class=\"center\">0.0</td></tr><tr><td>Dhangadi</td><td class=\"center\">39.9</td><td class=\"center\">23.4</td><td class=\"center\">Traces</td></tr><tr><td>Birendranagar</td><td class=\"center\">37.9</td><td class=\"center\">20.0</td><td class=\"center\">1.0</td></tr><tr><td>Nepalgunj</td><td class=\"center\">42.4</td><td class=\"center\">25.5</td><td class=\"center\">0.0</td></tr><tr><td>Jumla</td><td class=\"center\">26.8</td><td class=\"center\">8.5</td><td class=\"center\">0.0</td></tr><tr><td>Dang</td><td class=\"center\">36.8</td><td class=\"center\">23.0</td><td class=\"center\">0.0</td></tr><tr><td>Pokhara</td><td class=\"center\">32.1</td><td class=\"center\">19.4</td><td class=\"center\">16.5</td></tr><tr><td>Bhairahawa</td><td class=\"center\">39.5</td><td class=\"center\">25.0</td><td class=\"center\">0.0</td></tr><tr><td>Simara</td><td class=\"center\">35.8</td><td class=\"center\">24.8</td><td class=\"center\">11.1</td></tr><tr><td>Kathmandu</td><td class=\"center\">30.8</td><td class=\"center\">18.0</td><td class=\"center\">0.3</td></tr><tr><td>Okhaldhunga</td><td class=\"center\">25.8</td><td class=\"center\">17.1</td><td class=\"center\">2.6</td></tr><tr><td>Taplejung</td><td class=\"center\">25.4</td><td class=\"center\">15.5</td><td class=\"center\">16.5</td></tr><tr><td>Dhankuta</td><td class=\"center\">28.0</td><td class=\"center\">19.8</td><td class=\"center\">Traces</td></tr><tr><td>Biratnagar</td><td class=\"center\">32.3</td><td class=\"center\">24.3</td><td class=\"center\">0.0</td></tr><tr><td>Jomsom</td><td class=\"center\">22.0</td><td class=\"center\">10.0</td><td class=\"center\">0.0*</td></tr><tr><td>Dharan</td><td class=\"center\">31.4</td><td class=\"center\">24.0</td><td class=\"center\">2.9*</td></tr><tr><td>Lumle</td><td class=\"center\">25.2</td><td class=\"center\">15.0</td><td class=\"center\">18.8*</td></tr><tr><td>Jankapur</td><td class=\"center\">36.0</td><td class=\"center\">23.5</td><td class=\"center\">0.0*</td></tr><tr><td>Jiri</td><td class=\"center\">0.0</td><td class=\"center\">0.0</td><td class=\"center\">0.0*</td></tr><tr><td align=\"right\" colspan=\"4\"><small>* Daily rainfall data ending at 08:45 AM NPT</small></td></tr></table>"
      ]
     },
     "execution_count": 19,
     "metadata": {},
     "output_type": "execute_result"
    }
   ],
   "source": [
    "table"
   ]
  },
  {
   "cell_type": "code",
   "execution_count": 22,
   "metadata": {
    "collapsed": false
   },
   "outputs": [
    {
     "ename": "KeyError",
     "evalue": "0",
     "output_type": "error",
     "traceback": [
      "\u001b[1;31m---------------------------------------------------------------------------\u001b[0m",
      "\u001b[1;31mKeyError\u001b[0m                                  Traceback (most recent call last)",
      "\u001b[1;32m<ipython-input-22-ad8de880c827>\u001b[0m in \u001b[0;36m<module>\u001b[1;34m()\u001b[0m\n\u001b[1;32m----> 1\u001b[1;33m \u001b[0mfirst_table\u001b[0m\u001b[1;33m=\u001b[0m\u001b[0mtable\u001b[0m\u001b[1;33m[\u001b[0m\u001b[1;36m0\u001b[0m\u001b[1;33m]\u001b[0m\u001b[1;33m\u001b[0m\u001b[0m\n\u001b[0m",
      "\u001b[1;32mc:\\Users\\ankit\\Anaconda3\\lib\\site-packages\\bs4\\element.py\u001b[0m in \u001b[0;36m__getitem__\u001b[1;34m(self, key)\u001b[0m\n\u001b[0;32m    956\u001b[0m         \"\"\"tag[key] returns the value of the 'key' attribute for the tag,\n\u001b[0;32m    957\u001b[0m         and throws an exception if it's not there.\"\"\"\n\u001b[1;32m--> 958\u001b[1;33m         \u001b[1;32mreturn\u001b[0m \u001b[0mself\u001b[0m\u001b[1;33m.\u001b[0m\u001b[0mattrs\u001b[0m\u001b[1;33m[\u001b[0m\u001b[0mkey\u001b[0m\u001b[1;33m]\u001b[0m\u001b[1;33m\u001b[0m\u001b[0m\n\u001b[0m\u001b[0;32m    959\u001b[0m \u001b[1;33m\u001b[0m\u001b[0m\n\u001b[0;32m    960\u001b[0m     \u001b[1;32mdef\u001b[0m \u001b[0m__iter__\u001b[0m\u001b[1;33m(\u001b[0m\u001b[0mself\u001b[0m\u001b[1;33m)\u001b[0m\u001b[1;33m:\u001b[0m\u001b[1;33m\u001b[0m\u001b[0m\n",
      "\u001b[1;31mKeyError\u001b[0m: 0"
     ]
    }
   ],
   "source": [
    "first_table=table[0]"
   ]
  },
  {
   "cell_type": "code",
   "execution_count": 23,
   "metadata": {
    "collapsed": false
   },
   "outputs": [
    {
     "data": {
      "text/plain": [
       "<table class=\"table\" style=\"margin-bottom: 0px\"><tr><th>Station</th><th class=\"center\">Maximum Temp.<br/>(°C)</th><th class=\"center\">Minimum Temp.<br/>(°C)</th><th class=\"center\">24 hrs Rainfall<br/>(mm)</th></tr><tr><td>Dadeldhura</td><td class=\"center\">28.1</td><td class=\"center\">14.9</td><td class=\"center\">0.0</td></tr><tr><td>Dipayal</td><td class=\"center\">38.3</td><td class=\"center\">19.6</td><td class=\"center\">0.0</td></tr><tr><td>Dhangadi</td><td class=\"center\">39.9</td><td class=\"center\">23.4</td><td class=\"center\">Traces</td></tr><tr><td>Birendranagar</td><td class=\"center\">37.9</td><td class=\"center\">20.0</td><td class=\"center\">1.0</td></tr><tr><td>Nepalgunj</td><td class=\"center\">42.4</td><td class=\"center\">25.5</td><td class=\"center\">0.0</td></tr><tr><td>Jumla</td><td class=\"center\">26.8</td><td class=\"center\">8.5</td><td class=\"center\">0.0</td></tr><tr><td>Dang</td><td class=\"center\">36.8</td><td class=\"center\">23.0</td><td class=\"center\">0.0</td></tr><tr><td>Pokhara</td><td class=\"center\">32.1</td><td class=\"center\">19.4</td><td class=\"center\">16.5</td></tr><tr><td>Bhairahawa</td><td class=\"center\">39.5</td><td class=\"center\">25.0</td><td class=\"center\">0.0</td></tr><tr><td>Simara</td><td class=\"center\">35.8</td><td class=\"center\">24.8</td><td class=\"center\">11.1</td></tr><tr><td>Kathmandu</td><td class=\"center\">30.8</td><td class=\"center\">18.0</td><td class=\"center\">0.3</td></tr><tr><td>Okhaldhunga</td><td class=\"center\">25.8</td><td class=\"center\">17.1</td><td class=\"center\">2.6</td></tr><tr><td>Taplejung</td><td class=\"center\">25.4</td><td class=\"center\">15.5</td><td class=\"center\">16.5</td></tr><tr><td>Dhankuta</td><td class=\"center\">28.0</td><td class=\"center\">19.8</td><td class=\"center\">Traces</td></tr><tr><td>Biratnagar</td><td class=\"center\">32.3</td><td class=\"center\">24.3</td><td class=\"center\">0.0</td></tr><tr><td>Jomsom</td><td class=\"center\">22.0</td><td class=\"center\">10.0</td><td class=\"center\">0.0*</td></tr><tr><td>Dharan</td><td class=\"center\">31.4</td><td class=\"center\">24.0</td><td class=\"center\">2.9*</td></tr><tr><td>Lumle</td><td class=\"center\">25.2</td><td class=\"center\">15.0</td><td class=\"center\">18.8*</td></tr><tr><td>Jankapur</td><td class=\"center\">36.0</td><td class=\"center\">23.5</td><td class=\"center\">0.0*</td></tr><tr><td>Jiri</td><td class=\"center\">0.0</td><td class=\"center\">0.0</td><td class=\"center\">0.0*</td></tr><tr><td align=\"right\" colspan=\"4\"><small>* Daily rainfall data ending at 08:45 AM NPT</small></td></tr></table>"
      ]
     },
     "execution_count": 23,
     "metadata": {},
     "output_type": "execute_result"
    }
   ],
   "source": [
    "table"
   ]
  },
  {
   "cell_type": "code",
   "execution_count": 25,
   "metadata": {
    "collapsed": true
   },
   "outputs": [],
   "source": [
    "tr= table.findAll('tr')"
   ]
  },
  {
   "cell_type": "code",
   "execution_count": 26,
   "metadata": {
    "collapsed": false
   },
   "outputs": [
    {
     "data": {
      "text/plain": [
       "[<tr><th>Station</th><th class=\"center\">Maximum Temp.<br/>(°C)</th><th class=\"center\">Minimum Temp.<br/>(°C)</th><th class=\"center\">24 hrs Rainfall<br/>(mm)</th></tr>,\n",
       " <tr><td>Dadeldhura</td><td class=\"center\">28.1</td><td class=\"center\">14.9</td><td class=\"center\">0.0</td></tr>,\n",
       " <tr><td>Dipayal</td><td class=\"center\">38.3</td><td class=\"center\">19.6</td><td class=\"center\">0.0</td></tr>,\n",
       " <tr><td>Dhangadi</td><td class=\"center\">39.9</td><td class=\"center\">23.4</td><td class=\"center\">Traces</td></tr>,\n",
       " <tr><td>Birendranagar</td><td class=\"center\">37.9</td><td class=\"center\">20.0</td><td class=\"center\">1.0</td></tr>,\n",
       " <tr><td>Nepalgunj</td><td class=\"center\">42.4</td><td class=\"center\">25.5</td><td class=\"center\">0.0</td></tr>,\n",
       " <tr><td>Jumla</td><td class=\"center\">26.8</td><td class=\"center\">8.5</td><td class=\"center\">0.0</td></tr>,\n",
       " <tr><td>Dang</td><td class=\"center\">36.8</td><td class=\"center\">23.0</td><td class=\"center\">0.0</td></tr>,\n",
       " <tr><td>Pokhara</td><td class=\"center\">32.1</td><td class=\"center\">19.4</td><td class=\"center\">16.5</td></tr>,\n",
       " <tr><td>Bhairahawa</td><td class=\"center\">39.5</td><td class=\"center\">25.0</td><td class=\"center\">0.0</td></tr>,\n",
       " <tr><td>Simara</td><td class=\"center\">35.8</td><td class=\"center\">24.8</td><td class=\"center\">11.1</td></tr>,\n",
       " <tr><td>Kathmandu</td><td class=\"center\">30.8</td><td class=\"center\">18.0</td><td class=\"center\">0.3</td></tr>,\n",
       " <tr><td>Okhaldhunga</td><td class=\"center\">25.8</td><td class=\"center\">17.1</td><td class=\"center\">2.6</td></tr>,\n",
       " <tr><td>Taplejung</td><td class=\"center\">25.4</td><td class=\"center\">15.5</td><td class=\"center\">16.5</td></tr>,\n",
       " <tr><td>Dhankuta</td><td class=\"center\">28.0</td><td class=\"center\">19.8</td><td class=\"center\">Traces</td></tr>,\n",
       " <tr><td>Biratnagar</td><td class=\"center\">32.3</td><td class=\"center\">24.3</td><td class=\"center\">0.0</td></tr>,\n",
       " <tr><td>Jomsom</td><td class=\"center\">22.0</td><td class=\"center\">10.0</td><td class=\"center\">0.0*</td></tr>,\n",
       " <tr><td>Dharan</td><td class=\"center\">31.4</td><td class=\"center\">24.0</td><td class=\"center\">2.9*</td></tr>,\n",
       " <tr><td>Lumle</td><td class=\"center\">25.2</td><td class=\"center\">15.0</td><td class=\"center\">18.8*</td></tr>,\n",
       " <tr><td>Jankapur</td><td class=\"center\">36.0</td><td class=\"center\">23.5</td><td class=\"center\">0.0*</td></tr>,\n",
       " <tr><td>Jiri</td><td class=\"center\">0.0</td><td class=\"center\">0.0</td><td class=\"center\">0.0*</td></tr>,\n",
       " <tr><td align=\"right\" colspan=\"4\"><small>* Daily rainfall data ending at 08:45 AM NPT</small></td></tr>]"
      ]
     },
     "execution_count": 26,
     "metadata": {},
     "output_type": "execute_result"
    }
   ],
   "source": [
    "tr"
   ]
  },
  {
   "cell_type": "code",
   "execution_count": 49,
   "metadata": {
    "collapsed": false
   },
   "outputs": [
    {
     "name": "stdout",
     "output_type": "stream",
     "text": [
      "[]\n",
      "[<td>Dadeldhura</td>, <td class=\"center\">28.1</td>, <td class=\"center\">14.9</td>, <td class=\"center\">0.0</td>]\n",
      "[<td>Dipayal</td>, <td class=\"center\">38.3</td>, <td class=\"center\">19.6</td>, <td class=\"center\">0.0</td>]\n",
      "[<td>Dhangadi</td>, <td class=\"center\">39.9</td>, <td class=\"center\">23.4</td>, <td class=\"center\">Traces</td>]\n",
      "[<td>Birendranagar</td>, <td class=\"center\">37.9</td>, <td class=\"center\">20.0</td>, <td class=\"center\">1.0</td>]\n",
      "[<td>Nepalgunj</td>, <td class=\"center\">42.4</td>, <td class=\"center\">25.5</td>, <td class=\"center\">0.0</td>]\n",
      "[<td>Jumla</td>, <td class=\"center\">26.8</td>, <td class=\"center\">8.5</td>, <td class=\"center\">0.0</td>]\n",
      "[<td>Dang</td>, <td class=\"center\">36.8</td>, <td class=\"center\">23.0</td>, <td class=\"center\">0.0</td>]\n",
      "[<td>Pokhara</td>, <td class=\"center\">32.1</td>, <td class=\"center\">19.4</td>, <td class=\"center\">16.5</td>]\n",
      "[<td>Bhairahawa</td>, <td class=\"center\">39.5</td>, <td class=\"center\">25.0</td>, <td class=\"center\">0.0</td>]\n",
      "[<td>Simara</td>, <td class=\"center\">35.8</td>, <td class=\"center\">24.8</td>, <td class=\"center\">11.1</td>]\n",
      "[<td>Kathmandu</td>, <td class=\"center\">30.8</td>, <td class=\"center\">18.0</td>, <td class=\"center\">0.3</td>]\n",
      "[<td>Okhaldhunga</td>, <td class=\"center\">25.8</td>, <td class=\"center\">17.1</td>, <td class=\"center\">2.6</td>]\n",
      "[<td>Taplejung</td>, <td class=\"center\">25.4</td>, <td class=\"center\">15.5</td>, <td class=\"center\">16.5</td>]\n",
      "[<td>Dhankuta</td>, <td class=\"center\">28.0</td>, <td class=\"center\">19.8</td>, <td class=\"center\">Traces</td>]\n",
      "[<td>Biratnagar</td>, <td class=\"center\">32.3</td>, <td class=\"center\">24.3</td>, <td class=\"center\">0.0</td>]\n",
      "[<td>Jomsom</td>, <td class=\"center\">22.0</td>, <td class=\"center\">10.0</td>, <td class=\"center\">0.0*</td>]\n",
      "[<td>Dharan</td>, <td class=\"center\">31.4</td>, <td class=\"center\">24.0</td>, <td class=\"center\">2.9*</td>]\n",
      "[<td>Lumle</td>, <td class=\"center\">25.2</td>, <td class=\"center\">15.0</td>, <td class=\"center\">18.8*</td>]\n",
      "[<td>Jankapur</td>, <td class=\"center\">36.0</td>, <td class=\"center\">23.5</td>, <td class=\"center\">0.0*</td>]\n",
      "[<td>Jiri</td>, <td class=\"center\">0.0</td>, <td class=\"center\">0.0</td>, <td class=\"center\">0.0*</td>]\n",
      "[<td align=\"right\" colspan=\"4\"><small>* Daily rainfall data ending at 08:45 AM NPT</small></td>]\n"
     ]
    }
   ],
   "source": [
    "data_set=[]\n",
    "for tr in table.findAll('tr'):\n",
    "    tds=tr.find_all('td')\n",
    "    print(tds)\n",
    "#     data={}\n",
    "#     if tds and len(tds)>3:\n",
    "#         data['Station']=tds[0].string\n",
    "#         data['Maximum']=tds[1].string\n",
    "#         data['Minimum']=tds[2].string\n",
    "#         data['Rainfall']=tds[3].string\n",
    "#         data_set.append(data)\n",
    "# print(data_set)\n",
    "    \n",
    "    "
   ]
  },
  {
   "cell_type": "code",
   "execution_count": null,
   "metadata": {
    "collapsed": true
   },
   "outputs": [],
   "source": []
  },
  {
   "cell_type": "code",
   "execution_count": null,
   "metadata": {
    "collapsed": true
   },
   "outputs": [],
   "source": []
  },
  {
   "cell_type": "code",
   "execution_count": null,
   "metadata": {
    "collapsed": true
   },
   "outputs": [],
   "source": []
  },
  {
   "cell_type": "code",
   "execution_count": null,
   "metadata": {
    "collapsed": true
   },
   "outputs": [],
   "source": []
  },
  {
   "cell_type": "code",
   "execution_count": null,
   "metadata": {
    "collapsed": true
   },
   "outputs": [],
   "source": []
  }
 ],
 "metadata": {
  "kernelspec": {
   "display_name": "Python 3",
   "language": "python",
   "name": "python3"
  },
  "language_info": {
   "codemirror_mode": {
    "name": "ipython",
    "version": 3
   },
   "file_extension": ".py",
   "mimetype": "text/x-python",
   "name": "python",
   "nbconvert_exporter": "python",
   "pygments_lexer": "ipython3",
   "version": "3.5.1"
  }
 },
 "nbformat": 4,
 "nbformat_minor": 0
}
