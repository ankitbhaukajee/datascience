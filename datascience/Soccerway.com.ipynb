{
 "cells": [
  {
   "cell_type": "code",
   "execution_count": 1,
   "metadata": {
    "collapsed": false
   },
   "outputs": [],
   "source": [
    "import requests\n",
    "from bs4 import BeautifulSoup\n",
    "import numpy as np\n",
    "import pandas as pd\n"
   ]
  },
  {
   "cell_type": "code",
   "execution_count": 2,
   "metadata": {
    "collapsed": true
   },
   "outputs": [],
   "source": [
    "url='http://int.soccerway.com/teams/club-teams/'"
   ]
  },
  {
   "cell_type": "code",
   "execution_count": 3,
   "metadata": {
    "collapsed": true
   },
   "outputs": [],
   "source": [
    "req=requests.get(url)"
   ]
  },
  {
   "cell_type": "code",
   "execution_count": null,
   "metadata": {
    "collapsed": true
   },
   "outputs": [],
   "source": []
  },
  {
   "cell_type": "code",
   "execution_count": 4,
   "metadata": {
    "collapsed": true
   },
   "outputs": [],
   "source": [
    "soup=BeautifulSoup(req.text,'html.parser')"
   ]
  },
  {
   "cell_type": "code",
   "execution_count": 5,
   "metadata": {
    "collapsed": false
   },
   "outputs": [],
   "source": [
    "div=soup.find('div',attrs={'class':'content teams index '})"
   ]
  },
  {
   "cell_type": "code",
   "execution_count": null,
   "metadata": {
    "collapsed": false
   },
   "outputs": [],
   "source": []
  },
  {
   "cell_type": "code",
   "execution_count": 6,
   "metadata": {
    "collapsed": false
   },
   "outputs": [],
   "source": [
    "#links=div.find_all('a',href=True)\n",
    "arr=[]\n",
    "for link in div.find_all('a', href=True):\n",
    "    arr.append(link['href'])\n"
   ]
  },
  {
   "cell_type": "code",
   "execution_count": 7,
   "metadata": {
    "collapsed": false
   },
   "outputs": [
    {
     "name": "stdout",
     "output_type": "stream",
     "text": [
      "Enter your club Country:germany\n"
     ]
    }
   ],
   "source": [
    "selectedCountry=input(\"Enter your club Country:\").lower()"
   ]
  },
  {
   "cell_type": "code",
   "execution_count": 8,
   "metadata": {
    "collapsed": false
   },
   "outputs": [],
   "source": [
    "\n",
    "for s in arr:\n",
    "    if selectedCountry in s:\n",
    "        link=\"http://int.soccerway.com\"+s\n",
    "\n"
   ]
  },
  {
   "cell_type": "code",
   "execution_count": 9,
   "metadata": {
    "collapsed": true
   },
   "outputs": [],
   "source": [
    "page=requests.get(link)"
   ]
  },
  {
   "cell_type": "code",
   "execution_count": 10,
   "metadata": {
    "collapsed": true
   },
   "outputs": [],
   "source": [
    "jhol=BeautifulSoup(page.text,'html.parser')"
   ]
  },
  {
   "cell_type": "code",
   "execution_count": null,
   "metadata": {
    "collapsed": false
   },
   "outputs": [],
   "source": []
  },
  {
   "cell_type": "code",
   "execution_count": 11,
   "metadata": {
    "collapsed": false
   },
   "outputs": [],
   "source": [
    "table=jhol.find('table',attrs={'class':'leaguetable sortable table detailed-table'})"
   ]
  },
  {
   "cell_type": "code",
   "execution_count": 12,
   "metadata": {
    "collapsed": false
   },
   "outputs": [],
   "source": [
    "td=table.findChildren('td',attrs={'class':'text team large-link'})"
   ]
  },
  {
   "cell_type": "code",
   "execution_count": null,
   "metadata": {
    "collapsed": false
   },
   "outputs": [],
   "source": []
  },
  {
   "cell_type": "code",
   "execution_count": 13,
   "metadata": {
    "collapsed": false
   },
   "outputs": [],
   "source": [
    "clubarr=[]\n",
    "for i in td:\n",
    "    \n",
    "    linked=i.find('a').get('href')\n",
    "\n",
    "    clubarr.append(linked)\n"
   ]
  },
  {
   "cell_type": "code",
   "execution_count": 14,
   "metadata": {
    "collapsed": false
   },
   "outputs": [
    {
     "name": "stdout",
     "output_type": "stream",
     "text": [
      "Enter your Club:bayern\n"
     ]
    }
   ],
   "source": [
    "selectedClub=input(\"Enter your Club:\").lower()\n",
    "selectedClub=selectedClub.replace(' ','-')\n"
   ]
  },
  {
   "cell_type": "code",
   "execution_count": null,
   "metadata": {
    "collapsed": false
   },
   "outputs": [],
   "source": [
    "\n"
   ]
  },
  {
   "cell_type": "code",
   "execution_count": 15,
   "metadata": {
    "collapsed": false
   },
   "outputs": [
    {
     "data": {
      "text/plain": [
       "'http://int.soccerway.com/teams/germany/fc-bayern-munchen/961/'"
      ]
     },
     "execution_count": 15,
     "metadata": {},
     "output_type": "execute_result"
    }
   ],
   "source": [
    "for b in clubarr:\n",
    "    if selectedClub in b:\n",
    "        clublink=\"http://int.soccerway.com\"+b\n",
    "clublink\n",
    "        "
   ]
  },
  {
   "cell_type": "code",
   "execution_count": 16,
   "metadata": {
    "collapsed": false
   },
   "outputs": [],
   "source": [
    "clubRequest=requests.get(clublink)"
   ]
  },
  {
   "cell_type": "code",
   "execution_count": 17,
   "metadata": {
    "collapsed": true
   },
   "outputs": [],
   "source": [
    "clubsoup=BeautifulSoup(clubRequest.text,'html.parser')"
   ]
  },
  {
   "cell_type": "code",
   "execution_count": 18,
   "metadata": {
    "collapsed": true
   },
   "outputs": [],
   "source": [
    "clubtable=clubsoup.find('table',attrs={'class':'matches'})"
   ]
  },
  {
   "cell_type": "code",
   "execution_count": 19,
   "metadata": {
    "collapsed": false
   },
   "outputs": [],
   "source": [
    "td_time=clubtable.find_all('td',attrs={'class':'score-time status'})"
   ]
  },
  {
   "cell_type": "code",
   "execution_count": null,
   "metadata": {
    "collapsed": false
   },
   "outputs": [],
   "source": []
  },
  {
   "cell_type": "code",
   "execution_count": null,
   "metadata": {
    "collapsed": false
   },
   "outputs": [],
   "source": []
  },
  {
   "cell_type": "code",
   "execution_count": null,
   "metadata": {
    "collapsed": false
   },
   "outputs": [],
   "source": []
  },
  {
   "cell_type": "code",
   "execution_count": 20,
   "metadata": {
    "collapsed": false
   },
   "outputs": [
    {
     "name": "stdout",
     "output_type": "stream",
     "text": [
      "                Home               Away                   Tournament   Time  \\\n",
      "0     Bayern München  Borussia Dortmund                    DFB Pokal  20:00   \n",
      "1     Bayern München              Milan  International Champions Cup  18:00   \n",
      "2     Internazionale     Bayern München  International Champions Cup  23:00   \n",
      "3     Bayern München        Real Madrid  International Champions Cup  01:30   \n",
      "4  Borussia Dortmund     Bayern München                    Super Cup      -   \n",
      "\n",
      "         Date  \n",
      "0  2016/05/21  \n",
      "1  2016/07/27  \n",
      "2  2016/07/30  \n",
      "3  2016/08/04  \n",
      "4  2016/08/13  \n"
     ]
    }
   ],
   "source": [
    "dataFrame=pd.DataFrame()\n",
    "for i in td_time:\n",
    "     \n",
    "    gamedata=i.find('a').get('href')\n",
    "    \n",
    "    date=gamedata[9:19]\n",
    "    gamedaylink='http://int.soccerway.com/'+gamedata\n",
    "    gamedayreq=requests.get(gamedaylink)\n",
    "    gamedaysoup=BeautifulSoup(gamedayreq.text,'html.parser')\n",
    "    gamediv=gamedaysoup.find_all('div',attrs={'id':'page_match_1_block_match_info_4-wrapper'})\n",
    "    for gg in gamediv:\n",
    "        \n",
    "        dtarray=[]\n",
    "        contleft=gg.find_all('div',attrs={'class':'container left'})#get left container containing home team\n",
    "        for oppleft in contleft:\n",
    "            leftteamdata=oppleft.find('a',href=True)\n",
    "            if leftteamdata.string:\n",
    "                leftteam=leftteamdata.string\n",
    "     \n",
    "        \n",
    "        contright=gg.find_all('div',attrs={'class':'container right'})#get left container containing away team\n",
    "        for oppright in contright:\n",
    "            rightteamdata=oppright.find('a',href=True)\n",
    "            if rightteamdata.string:\n",
    "                rightteam=rightteamdata.string\n",
    "                \n",
    "                \n",
    "        contmiddle=gg.find_all('div',attrs={'class':'container middle'})#get all middle data\n",
    "        for middt in contmiddle:\n",
    "            middledt=middt.find_all('dt')\n",
    "        for middledts in middledt:\n",
    "            dtarray.append(middledts.text)\n",
    "        if any('Kick-off' in s for s in dtarray):\n",
    "            kickoff=dtarray.index('Kick-off')\n",
    "        else:\n",
    "            kickoff= None\n",
    "       \n",
    "        for middledd in contmiddle:#to get dd data\n",
    "            middledata=middledd.find_all('dd')\n",
    "        #print(dtarray)\n",
    "        tournament_type=middledata[0].text\n",
    "        #print(tournament_type)\n",
    "        if kickoff== None:\n",
    "            game_time='-'\n",
    "        else:\n",
    "            game_time=middledata[kickoff].text.replace('\\n','')\n",
    "        #print(game_time)\n",
    "        gamedayarr=[leftteam,rightteam,tournament_type,game_time,date]\n",
    "\n",
    "        perdataframe=pd.DataFrame(data=gamedayarr)\n",
    "        perdataframe=perdataframe.transpose()\n",
    "        perdataframe.columns=['Home','Away','Tournament','Time','Date']\n",
    "        dataFrame=dataFrame.append(perdataframe,ignore_index=True)\n",
    "print(dataFrame)\n",
    "\n"
   ]
  },
  {
   "cell_type": "code",
   "execution_count": 46,
   "metadata": {
    "collapsed": false
   },
   "outputs": [
    {
     "data": {
      "text/html": [
       "<div>\n",
       "<table border=\"1\" class=\"dataframe\">\n",
       "  <thead>\n",
       "    <tr style=\"text-align: right;\">\n",
       "      <th></th>\n",
       "      <th>Home</th>\n",
       "      <th>Away</th>\n",
       "      <th>Tournament</th>\n",
       "      <th>Time</th>\n",
       "      <th>Date</th>\n",
       "    </tr>\n",
       "  </thead>\n",
       "  <tbody>\n",
       "    <tr>\n",
       "      <th>0</th>\n",
       "      <td>Bayern München</td>\n",
       "      <td>Borussia Dortmund</td>\n",
       "      <td>DFB Pokal</td>\n",
       "      <td>20:00</td>\n",
       "      <td>2016/05/21</td>\n",
       "    </tr>\n",
       "    <tr>\n",
       "      <th>1</th>\n",
       "      <td>Bayern München</td>\n",
       "      <td>Milan</td>\n",
       "      <td>International Champions Cup</td>\n",
       "      <td>18:00</td>\n",
       "      <td>2016/07/27</td>\n",
       "    </tr>\n",
       "    <tr>\n",
       "      <th>2</th>\n",
       "      <td>Internazionale</td>\n",
       "      <td>Bayern München</td>\n",
       "      <td>International Champions Cup</td>\n",
       "      <td>23:00</td>\n",
       "      <td>2016/07/30</td>\n",
       "    </tr>\n",
       "    <tr>\n",
       "      <th>3</th>\n",
       "      <td>Bayern München</td>\n",
       "      <td>Real Madrid</td>\n",
       "      <td>International Champions Cup</td>\n",
       "      <td>01:30</td>\n",
       "      <td>2016/08/04</td>\n",
       "    </tr>\n",
       "    <tr>\n",
       "      <th>4</th>\n",
       "      <td>Borussia Dortmund</td>\n",
       "      <td>Bayern München</td>\n",
       "      <td>Super Cup</td>\n",
       "      <td>-</td>\n",
       "      <td>2016/08/13</td>\n",
       "    </tr>\n",
       "  </tbody>\n",
       "</table>\n",
       "</div>"
      ],
      "text/plain": [
       "                Home               Away                   Tournament   Time  \\\n",
       "0     Bayern München  Borussia Dortmund                    DFB Pokal  20:00   \n",
       "1     Bayern München              Milan  International Champions Cup  18:00   \n",
       "2     Internazionale     Bayern München  International Champions Cup  23:00   \n",
       "3     Bayern München        Real Madrid  International Champions Cup  01:30   \n",
       "4  Borussia Dortmund     Bayern München                    Super Cup      -   \n",
       "\n",
       "         Date  \n",
       "0  2016/05/21  \n",
       "1  2016/07/27  \n",
       "2  2016/07/30  \n",
       "3  2016/08/04  \n",
       "4  2016/08/13  "
      ]
     },
     "execution_count": 46,
     "metadata": {},
     "output_type": "execute_result"
    }
   ],
   "source": [
    "dataFrame"
   ]
  },
  {
   "cell_type": "code",
   "execution_count": 132,
   "metadata": {
    "collapsed": false
   },
   "outputs": [
    {
     "name": "stdout",
     "output_type": "stream",
     "text": [
      "2016-05-21 00:00:00\n"
     ]
    }
   ],
   "source": [
    "import smtplib\n",
    "from email.mime.multipart import MIMEMultipart\n",
    "from email.mime.text import MIMEText\n",
    "from email.mime.base import MIMEBase\n",
    "from email import encoders\n",
    "from datetime import date\n",
    "from datetime import datetime\n",
    "currdate=datetime.strptime(now,\"%m/%d/%y\")\n",
    "print(currdate)\n",
    "for i in range(0,len(dataFrame)):\n",
    "    testdate=dataFrame['Date'][i]\n",
    "    testdateconv=datetime.strptime(testdate , '%Y/%m/%d')\n",
    "    diff=testdateconv-currdate\n",
    "   \n",
    "    if diff.days==0:\n",
    "        home=dataFrame['Home'][i]\n",
    "        away=dataFrame['Away'][i]\n",
    "        tournament=dataFrame['Tournament'][i]\n",
    "        time=dataFrame['Time'][i]\n",
    "        senddate=testdate\n",
    "        \n",
    " \n",
    "        fromaddr = \"ankitbhaukajee@gmail.com\"\n",
    "        toaddr = \"sameepbabu@gmail.com,ankitbhk1990@gmail.com\"\n",
    "\n",
    "        msg = MIMEMultipart()\n",
    "\n",
    "        msg['From'] = fromaddr\n",
    "        msg['To'] = toaddr\n",
    "        msg['Subject'] = \"Game Information\"\n",
    "\n",
    "        body =\"Home: \"+home+\"\\nAway: \"+away+\"\\nTournament: \"+tournament+\"\\nTime: \"+time+\"\\nDate: \"+senddate\n",
    "\n",
    "        msg.attach(MIMEText(body, 'plain'))\n",
    "\n",
    "        filename = \"bayern.csv\"\n",
    "        attachment = open(\"bayern.csv\", \"rb\")\n",
    "\n",
    "        part = MIMEBase('application', 'octet-stream')\n",
    "        part.set_payload((attachment).read())\n",
    "        encoders.encode_base64(part)\n",
    "        part.add_header('Content-Disposition', \"attachment; filename= %s\" % filename)\n",
    "\n",
    "        msg.attach(part)\n",
    "\n",
    "        server = smtplib.SMTP('smtp.gmail.com', 587)\n",
    "        server.starttls()\n",
    "        server.login(fromaddr, \"footb@ll\")\n",
    "        text = msg.as_string()\n",
    "        server.sendmail(fromaddr, toaddr, text)\n",
    "        server.quit()\n",
    "    \n",
    "    \n",
    "#     datetime=date+' '+time\n",
    "#     print(datetime)\n",
    "\n",
    "# from datetime import datetime\n",
    "\n",
    "# now = time.strftime(\"%x\")\n",
    "# print(now)\n",
    "# d1 = datetime.strptime(now,\"%m/%d/%y\")\n",
    "# print(d1)\n",
    "\n",
    "# # print(d1)\n",
    "# x=dataFrame['Date'][0]+' '+dataFrame['Time'][0]\n",
    "# x\n",
    "# date_object = datetime.strptime('Jun 1 2005  1:33PM', '%Y %m %d %I:%M%p')\n",
    "# #x.strftime(\"%x\")"
   ]
  },
  {
   "cell_type": "code",
   "execution_count": null,
   "metadata": {
    "collapsed": true
   },
   "outputs": [],
   "source": []
  },
  {
   "cell_type": "code",
   "execution_count": null,
   "metadata": {
    "collapsed": true
   },
   "outputs": [],
   "source": []
  },
  {
   "cell_type": "code",
   "execution_count": null,
   "metadata": {
    "collapsed": true
   },
   "outputs": [],
   "source": []
  },
  {
   "cell_type": "code",
   "execution_count": null,
   "metadata": {
    "collapsed": true
   },
   "outputs": [],
   "source": []
  },
  {
   "cell_type": "code",
   "execution_count": 25,
   "metadata": {
    "collapsed": true
   },
   "outputs": [],
   "source": [
    "import smtplib\n",
    "from os.path import basename\n",
    "from email.mime.application import MIMEApplication\n",
    "from email.mime.multipart import MIMEMultipart\n",
    "from email.mime.text import MIMEText\n",
    "from email.utils import COMMASPACE, formatdate\n",
    "\n",
    "\n",
    "def send_mail(send_from, send_to, subject, text, files=None,\n",
    "              server=\"127.0.0.1\"):\n",
    "    assert isinstance(send_to, list)\n",
    "\n",
    "    msg = MIMEMultipart(\n",
    "        From=send_from,\n",
    "        To=COMMASPACE.join(send_to),\n",
    "        Date=formatdate(localtime=True),\n",
    "        Subject=subject\n",
    "    )\n",
    "    msg.attach(MIMEText(text))\n",
    "\n",
    "    for f in files or []:\n",
    "        with open(f, \"rb\") as fil:\n",
    "            msg.attach(MIMEApplication(\n",
    "                fil.read(),\n",
    "                Content_Disposition='attachment; filename=\"%s\"' % basename(f),\n",
    "                Name=basename(f)\n",
    "            ))\n",
    "\n",
    "    smtp = smtplib.SMTP(server)\n",
    "    smtp.sendmail(send_from, send_to, msg.as_string())\n",
    "    smtp.close()"
   ]
  },
  {
   "cell_type": "code",
   "execution_count": 27,
   "metadata": {
    "collapsed": false
   },
   "outputs": [
    {
     "ename": "AssertionError",
     "evalue": "",
     "output_type": "error",
     "traceback": [
      "\u001b[1;31m---------------------------------------------------------------------------\u001b[0m",
      "\u001b[1;31mAssertionError\u001b[0m                            Traceback (most recent call last)",
      "\u001b[1;32m<ipython-input-27-42ab3ac675fe>\u001b[0m in \u001b[0;36m<module>\u001b[1;34m()\u001b[0m\n\u001b[1;32m----> 1\u001b[1;33m \u001b[0msend_mail\u001b[0m\u001b[1;33m(\u001b[0m\u001b[1;34m'ankit'\u001b[0m\u001b[1;33m,\u001b[0m\u001b[1;34m'priyanka'\u001b[0m\u001b[1;33m,\u001b[0m\u001b[1;34m'hello'\u001b[0m\u001b[1;33m,\u001b[0m\u001b[1;34m'asdf'\u001b[0m\u001b[1;33m)\u001b[0m\u001b[1;33m\u001b[0m\u001b[0m\n\u001b[0m",
      "\u001b[1;32m<ipython-input-25-1b56531543a6>\u001b[0m in \u001b[0;36msend_mail\u001b[1;34m(send_from, send_to, subject, text, files, server)\u001b[0m\n\u001b[0;32m      9\u001b[0m def send_mail(send_from, send_to, subject, text, files=None,\n\u001b[0;32m     10\u001b[0m               server=\"127.0.0.1\"):\n\u001b[1;32m---> 11\u001b[1;33m     \u001b[1;32massert\u001b[0m \u001b[0misinstance\u001b[0m\u001b[1;33m(\u001b[0m\u001b[0msend_to\u001b[0m\u001b[1;33m,\u001b[0m \u001b[0mlist\u001b[0m\u001b[1;33m)\u001b[0m\u001b[1;33m\u001b[0m\u001b[0m\n\u001b[0m\u001b[0;32m     12\u001b[0m \u001b[1;33m\u001b[0m\u001b[0m\n\u001b[0;32m     13\u001b[0m     msg = MIMEMultipart(\n",
      "\u001b[1;31mAssertionError\u001b[0m: "
     ]
    }
   ],
   "source": [
    "send_mail('ankit','priyanka','hello','asdf')"
   ]
  },
  {
   "cell_type": "code",
   "execution_count": 29,
   "metadata": {
    "collapsed": false
   },
   "outputs": [
    {
     "name": "stdout",
     "output_type": "stream",
     "text": [
      "divide by zero\n"
     ]
    }
   ],
   "source": []
  },
  {
   "cell_type": "code",
   "execution_count": null,
   "metadata": {
    "collapsed": true
   },
   "outputs": [],
   "source": []
  },
  {
   "cell_type": "code",
   "execution_count": null,
   "metadata": {
    "collapsed": true
   },
   "outputs": [],
   "source": []
  },
  {
   "cell_type": "code",
   "execution_count": 103,
   "metadata": {
    "collapsed": false
   },
   "outputs": [
    {
     "name": "stdout",
     "output_type": "stream",
     "text": [
      "2008-08-18\n",
      "39\n"
     ]
    }
   ],
   "source": [
    "from datetime import date\n",
    "d0 = date(2008, 8, 18)\n",
    "d1 = date(2008, 9, 26)\n",
    "print(d0)\n",
    "delta = d1 - d0\n",
    "print (delta.days)"
   ]
  },
  {
   "cell_type": "code",
   "execution_count": null,
   "metadata": {
    "collapsed": false
   },
   "outputs": [],
   "source": []
  },
  {
   "cell_type": "code",
   "execution_count": null,
   "metadata": {
    "collapsed": false
   },
   "outputs": [],
   "source": []
  },
  {
   "cell_type": "code",
   "execution_count": null,
   "metadata": {
    "collapsed": false
   },
   "outputs": [],
   "source": []
  },
  {
   "cell_type": "code",
   "execution_count": null,
   "metadata": {
    "collapsed": false
   },
   "outputs": [],
   "source": []
  },
  {
   "cell_type": "code",
   "execution_count": null,
   "metadata": {
    "collapsed": false
   },
   "outputs": [],
   "source": []
  },
  {
   "cell_type": "code",
   "execution_count": null,
   "metadata": {
    "collapsed": false
   },
   "outputs": [],
   "source": []
  }
 ],
 "metadata": {
  "kernelspec": {
   "display_name": "Python 3",
   "language": "python",
   "name": "python3"
  },
  "language_info": {
   "codemirror_mode": {
    "name": "ipython",
    "version": 3
   },
   "file_extension": ".py",
   "mimetype": "text/x-python",
   "name": "python",
   "nbconvert_exporter": "python",
   "pygments_lexer": "ipython3",
   "version": "3.5.1"
  }
 },
 "nbformat": 4,
 "nbformat_minor": 0
}
